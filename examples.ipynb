{
 "cells": [
  {
   "cell_type": "markdown",
   "metadata": {},
   "source": [
    "# HODEmu\n",
    "\n",
    "Here below we will see a very short tutorial on how to use the satellie HOD cosmology emulator presented in Ragagnin et al. 2021.\n",
    "\n",
    "First we will se how obtain satellite HOD parameters (i.e. normalisation, log-slope and log-scatter from Eq.), then how to produce Ns-M relation and then how to produce a mock satellite abundance Ns.\n",
    "\n",
    "To run this notebook you need hod_emu.py and from _hod_emu_sklearn_gpr_serialized.py https://github.com/aragagnin/HODEmu"
   ]
  },
  {
   "cell_type": "markdown",
   "metadata": {},
   "source": [
    "## Import of libraries\n",
    "\n",
    "We import the emulator `hod_emu`. You can obtain it by downloading `hod_emu.py` from the github, or with the following\n",
    "command:\n",
    "\n",
    "```bash\n",
    "python -mpip install  git+https://github.com/aragagnin/g3read\n",
    "```"
   ]
  },
  {
   "cell_type": "code",
   "execution_count": 1,
   "metadata": {},
   "outputs": [],
   "source": [
    "import matplotlib.pyplot as plt\n",
    "import numpy as np\n",
    "import hod_emu"
   ]
  },
  {
   "cell_type": "markdown",
   "metadata": {},
   "source": [
    "## Get satellite HOD data\n",
    "\n",
    "\n",
    "First we need to obtain the emulator by calling either `get_emulator_mvir()` or `get_emulator_m200c()` depending if we need $N_{s,\\tt{vir}}$ or $N_{s,\\tt{200c}}.$\n",
    "\n",
    "To obtain satellite HOD parameters we can call function `predict_A_beta_sigma([[Omega_m, Omega_b, sigma8, h0, scale_factor]])` which requirest an array of datapoints as input, each with parameters $(\\Omega_m, \\Omega_b, \\sigma_8, h_0, 1/(1+z)).$\n",
    "\n",
    "The resulting parametrs are $A, \\beta, \\sigma$ presented in Equations 4 and 5, so that the satellite abundance $N_s$ is  \n",
    "\n",
    "$$N_s(M) = A(\\frac{M}{M_p})^\\beta$$\n",
    "\n",
    "and $\\sigma$ is the log scatter and the pivot mass is $M_p=5\\cdot10^{14}M_\\odot$ for  both $\\Delta_\\tt{vir}$ and $\\Delta_\\tt{200c}.$\n",
    "\n",
    "Note that the satellite abundance has been trained to return satellite count with stellar mass $M_\\star>2\\cdot10^{11}M_\\odot.$  To rescale this value to a lower cut, use Eq. 3 in the paper."
   ]
  },
  {
   "cell_type": "code",
   "execution_count": 2,
   "metadata": {},
   "outputs": [
    {
     "data": {
      "image/png": "[encoded data removed]",
      "text/plain": [
       "<Figure size 432x288 with 1 Axes>"
      ]
     },
     "metadata": {
      "needs_background": "light"
     },
     "output_type": "display_data"
    }
   ],
   "source": [
    "Om0 = 0.3\n",
    "Ob0 = 0.04\n",
    "s8 = 0.8\n",
    "h0 = 0.7\n",
    "z = 0.8\n",
    "\n",
    "input = [[Om0, Ob0, s8, h0, 1./(1.+z)]] #the input must be a 2d array because you can feed an array of data points\n",
    "\n",
    "emu = hod_emu.get_emulator_m200c() # use get_emulator_mvir to obtain the emulator within Delta_vir\n",
    "\n",
    "A, beta, sigma  =  emu.predict_A_beta_sigma(input).T\n",
    "\n",
    "masses = np.logspace(14.5,15.5,20)\n",
    "\n",
    "Ns = A*(masses/5e14)**beta\n",
    "\n",
    "\n",
    "plt.plot(masses,Ns)\n",
    "plt.fill_between(masses, Ns*(1.-sigma), Ns*(1.+sigma),alpha=0.2)\n",
    "plt.xlabel(r'$M_{\\rm{halo}}$')\n",
    "plt.ylabel(r'$N_s$')\n",
    "plt.title(r'$M_\\bigstar>2\\cdot10^{11}M_\\odot \\ \\ \\ \\tt{ and }  \\ \\ \\ \\ \\  r<R_{\\tt{200c}}$')\n",
    "plt.xscale('log')\n",
    "plt.yscale('log')\n"
   ]
  },
  {
   "cell_type": "markdown",
   "metadata": {},
   "source": [
    "## Get Emulator standard deviation\n",
    "\n",
    "The Gaussian Process Regression emulator provides itself an estimate of the standard deviation. You can request it by calling `predict_A_beta_sigma(..., emulator_std=True)`. The function will then returns a tuple to values (1) the A,\\beta,sigma value as before and (2) a numpy array of the same shape as the first point but containing standard deviations of $ln(A), ln(\\beta)$ and $ln(\\sigma).$\n"
   ]
  },
  {
   "cell_type": "code",
   "execution_count": 3,
   "metadata": {},
   "outputs": [
    {
     "name": "stdout",
     "output_type": "stream",
     "text": [
      "A: 1.933e+00, log-std A: 1.242e-01\n",
      "B: 1.002e+00, log-std beta: 8.275e-02\n",
      "sigma: 6.723e-02, log-std sigma: 2.128e-01\n"
     ]
    }
   ],
   "source": [
    "params_tuple, stds_tuple  =  emu.predict_A_beta_sigma(input, emulator_std=True)\n",
    "\n",
    "A, beta, sigma = params_tuple.T\n",
    "error_logA, error_logbeta, error_logsigma = stds_tuple.T\n",
    "\n",
    "print('A: %.3e, log-std A: %.3e'%(A[0], error_logA[0]))\n",
    "print('B: %.3e, log-std beta: %.3e'%(beta[0], error_logbeta[0]))\n",
    "print('sigma: %.3e, log-std sigma: %.3e'%(sigma[0], error_logsigma[0]))"
   ]
  },
  {
   "cell_type": "markdown",
   "metadata": {},
   "source": [
    "## Emulate mock data\n",
    "\n",
    "To emulate both haloes and their satellite number we use the package `import hmf.helpers.sample`\n",
    " from https://hmf.readthedocs.io/en/latest/\n",
    " \n",
    "Note that our likelihood (Eq. 4) imposes a Gaussian distribution with a cut on negative values, hence the function `non_neg_normal_sample`"
   ]
  },
  {
   "cell_type": "code",
   "execution_count": null,
   "metadata": {},
   "outputs": [],
   "source": [
    "import hmf.helpers.sample\n",
    "import scipy.stats\n",
    "\n",
    "masses = hmf.helpers.sample.sample_mf(4000,14.0,hmf_model=\"PS\",Mmax=17,sort=True)[0]    \n",
    "    \n",
    "def non_neg_normal_sample(loc, scale,  max_iters=1000):\n",
    "    \"Given a numpy-array of loc and scale, return data from only-positive normal distribution.\"\n",
    "    vals = scipy.stats.norm.rvs(loc = loc, scale=scale)\n",
    "    mask_negative = vals<0.\n",
    "    if(np.any(vals[mask_negative])):\n",
    "        non_neg_normal_sample(loc[mask_negative], scale[mask_negative],  max_iters=1000)\n",
    "    # after the recursion, we should have all positive numbers\n",
    "    mask_negative = vals<0.\n",
    "    if(np.any(vals[mask_negative])):\n",
    "        raise Exception(\"non_neg_normal_sample function failed to provide  positive-normal\")    \n",
    "    return vals\n",
    "\n",
    "A, beta, logscatter = emu.predict_A_beta_sigma( [Om0, Ob0, s8, h0, 1./(1.+z)])[0].T\n",
    "\n",
    "Ns = A*(masses/5e14)**beta\n",
    "\n",
    "modelmu = non_neg_normal_sample(loc = Ns, scale=logscatter*Ns)\n",
    "modelpois = scipy.stats.poisson.rvs(modelmu)\n",
    "modelmock = modelpois\n",
    "\n",
    "bins = np.logspace( 14.,15.3,12)\n",
    "h_nsat, h_b = np.histogram(masses, weights=modelmock, bins=bins)\n",
    "h_nele, h_b = np.histogram(masses, bins=bins)\n",
    "h_nmass, h_b = np.histogram(masses, weights=masses, bins=bins)\n",
    "h_x = h_nmass/h_nele\n",
    "h_y = h_nsat/h_nele\n",
    "\n",
    "plt.fill_between(masses, Ns *(1.-logscatter), Ns *(1.+logscatter), label='Ns +/- log scatter from Emu', color='black',alpha=0.5)\n",
    "plt.scatter(masses, modelmock , label='Ns mock', color='orange',alpha=0.7)\n",
    "plt.plot(masses, Ns , label='<Ns> from Emu', color='black',alpha=0.8)\n",
    "plt.plot(h_x, h_y , label='<Ns> of mock', color='red')\n",
    "plt.ylim([0.1,100.])\n",
    "plt.xscale('log')\n",
    "plt.yscale('log')\n",
    "plt.xlabel(r'$M_{\\rm {200c}} [M_\\odot]$')\n",
    "plt.ylabel(r'$N_s$')\n",
    "plt.title(r'$M_\\bigstar>2\\cdot10^{11}M_\\odot \\ \\ \\ \\tt{ and }  \\ \\ \\ \\ \\  r<R_{\\tt{200c}}$')\n",
    "\n",
    "plt.legend();\n"
   ]
  },
  {
   "cell_type": "code",
   "execution_count": null,
   "metadata": {},
   "outputs": [],
   "source": []
  }
 ],
 "metadata": {
  "kernelspec": {
   "display_name": "Python 3",
   "language": "python",
   "name": "python3"
  },
  "language_info": {
   "codemirror_mode": {
    "name": "ipython",
    "version": 3
   },
   "file_extension": ".py",
   "mimetype": "text/x-python",
   "name": "python",
   "nbconvert_exporter": "python",
   "pygments_lexer": "ipython3",
   "version": "3.7.1"
  }
 },
 "nbformat": 4,
 "nbformat_minor": 2
}
